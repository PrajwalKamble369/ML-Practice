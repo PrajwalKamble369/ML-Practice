{
 "cells": [
  {
   "cell_type": "code",
   "execution_count": null,
   "id": "f2afccd4",
   "metadata": {},
   "outputs": [],
   "source": [
    "import openml\n",
    "\n",
    "openml.config.apikey = \"cc38f1e2905058554335af5f93977f73\"\n"
   ]
  },
  {
   "cell_type": "code",
   "execution_count": 16,
   "id": "fd0f0712",
   "metadata": {},
   "outputs": [
    {
     "name": "stdout",
     "output_type": "stream",
     "text": [
      "         did      name  version uploader  status format  MajorityClassSize  \\\n",
      "37        37  diabetes        1        1  active   ARFF              500.0   \n",
      "42608  42608  diabetes        5    13214  active   ARFF                NaN   \n",
      "43063  43063  Diabetes        6    26817  active   ARFF                NaN   \n",
      "46921  46921  diabetes        7    34097  active   arff              500.0   \n",
      "\n",
      "       MaxNominalAttDistinctValues  MinorityClassSize  NumberOfClasses  \\\n",
      "37                             2.0              268.0              2.0   \n",
      "42608                          NaN                NaN              NaN   \n",
      "43063                          NaN                NaN              NaN   \n",
      "46921                          NaN              268.0              2.0   \n",
      "\n",
      "       NumberOfFeatures  NumberOfInstances  \\\n",
      "37                  9.0              768.0   \n",
      "42608               9.0              768.0   \n",
      "43063               9.0              768.0   \n",
      "46921               9.0              768.0   \n",
      "\n",
      "       NumberOfInstancesWithMissingValues  NumberOfMissingValues  \\\n",
      "37                                    0.0                    0.0   \n",
      "42608                                 0.0                    0.0   \n",
      "43063                                 0.0                    0.0   \n",
      "46921                                 0.0                    0.0   \n",
      "\n",
      "       NumberOfNumericFeatures  NumberOfSymbolicFeatures  \n",
      "37                         8.0                       1.0  \n",
      "42608                      8.0                       1.0  \n",
      "43063                      8.0                       1.0  \n",
      "46921                      8.0                       1.0  \n"
     ]
    }
   ],
   "source": [
    "import openml\n",
    "import pandas as pd\n",
    "\n",
    "# API key\n",
    "openml.config.apikey = \"cc38f1e2905058554335af5f93977f73\"\n",
    "\n",
    "# Correct search\n",
    "datasets = openml.datasets.list_datasets(data_name=\"diabetes\", output_format=\"dataframe\")\n",
    "\n",
    "# Show top 5 datasets\n",
    "print(datasets.head())\n"
   ]
  },
  {
   "cell_type": "code",
   "execution_count": null,
   "id": "ba21b83a",
   "metadata": {},
   "outputs": [],
   "source": []
  }
 ],
 "metadata": {
  "kernelspec": {
   "display_name": "ml_practice (3.13.2)",
   "language": "python",
   "name": "python3"
  },
  "language_info": {
   "codemirror_mode": {
    "name": "ipython",
    "version": 3
   },
   "file_extension": ".py",
   "mimetype": "text/x-python",
   "name": "python",
   "nbconvert_exporter": "python",
   "pygments_lexer": "ipython3",
   "version": "3.13.2"
  }
 },
 "nbformat": 4,
 "nbformat_minor": 5
}
